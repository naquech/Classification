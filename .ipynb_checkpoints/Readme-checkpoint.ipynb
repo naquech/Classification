{
 "cells": [
  {
   "cell_type": "markdown",
   "metadata": {},
   "source": [
    "# Applying Supervised Machine Learning Models\n",
    "\n",
    "## Census Income Data Set\n",
    "\n",
    "The Census Income is a popular data set used for classification in Machine Learning; it's used to classify a person's income in two groups based on census data. The groups are people who earn more than 50,000/year, and those who earn less than 50,000/year. The data set contains 14 attributes and 48,842 instances.\n",
    "\n",
    "### Question\n",
    "Does a person make more than 50K a year?\n",
    "\n",
    "\n",
    "### Insights\n",
    "\n",
    "<img src='Images/insights.png'>\n",
    "\n",
    "\n",
    "### Classification Models\n",
    "\n",
    "* Logistic Regression\n",
    "* XGBoost\n",
    "\n",
    "##### Feature Importance XGBoost\n",
    "\n",
    "<img src='Images/featureImportance.png'>\n",
    "\n",
    "##### Model Comparison before balancing\n",
    "\n",
    "<img src='Images/modelReport.png'>\n",
    "\n",
    "\n",
    "##### Logistic Regresion - Balanced\n",
    "\n",
    "<img src='Images/reportLR.png'>\n",
    "\n",
    "##### XGBoost - Balanced\n",
    "\n",
    "<img src='Images/reportXGB.png'>\n",
    "\n",
    "#### Interpretation\n",
    "\n",
    "* We can predict and classify income with the given data.  \n",
    "* The private sector is were most people work with higher salaries. \n",
    "* Higher education means higher salaries. \n",
    "* The peak income for those earning more than 50K is in between early 20’s and late 30’s. "
   ]
  },
  {
   "cell_type": "code",
   "execution_count": null,
   "metadata": {},
   "outputs": [],
   "source": []
  }
 ],
 "metadata": {
  "kernelspec": {
   "display_name": "Python 3",
   "language": "python",
   "name": "python3"
  },
  "language_info": {
   "codemirror_mode": {
    "name": "ipython",
    "version": 3
   },
   "file_extension": ".py",
   "mimetype": "text/x-python",
   "name": "python",
   "nbconvert_exporter": "python",
   "pygments_lexer": "ipython3",
   "version": "3.7.2"
  }
 },
 "nbformat": 4,
 "nbformat_minor": 2
}
